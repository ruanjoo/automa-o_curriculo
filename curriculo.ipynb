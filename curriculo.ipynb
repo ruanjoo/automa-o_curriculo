{
 "cells": [
  {
   "cell_type": "code",
   "execution_count": 181,
   "id": "8759fff6",
   "metadata": {},
   "outputs": [],
   "source": [
    "from selenium import webdriver\n",
    "import time\n",
    "from selenium.webdriver.common.keys import Keys\n",
    "from selenium.webdriver.common.action_chains import ActionChains\n",
    "from selenium.webdriver.common.by import By\n",
    "from selenium.webdriver.support.ui import WebDriverWait\n",
    "from selenium.webdriver.support import expected_conditions as EC\n"
   ]
  },
  {
   "cell_type": "code",
   "execution_count": 182,
   "id": "b9cd6e72",
   "metadata": {},
   "outputs": [],
   "source": [
    "navegador = webdriver.Firefox()"
   ]
  },
  {
   "cell_type": "code",
   "execution_count": 183,
   "id": "99a67e6a",
   "metadata": {},
   "outputs": [],
   "source": [
    "\n",
    "navegador.get(\"https://sidia.inhire.app/sidia/vagas\")\n",
    "navegador.maximize_window()\n"
   ]
  },
  {
   "cell_type": "code",
   "execution_count": 184,
   "id": "ca4b6fff",
   "metadata": {},
   "outputs": [],
   "source": [
    "barra_pesquisa = WebDriverWait(navegador, 10).until(\n",
    "    EC.presence_of_element_located((By.ID, \"name\"))\n",
    ")\n",
    "barra_pesquisa.click()\n",
    "barra_pesquisa.send_keys(\"estágio\")"
   ]
  },
  {
   "cell_type": "code",
   "execution_count": 185,
   "id": "565cb65c",
   "metadata": {},
   "outputs": [],
   "source": [
    "time.sleep(5)\n",
    "for _ in range(3):\n",
    "    ActionChains(navegador).send_keys(Keys.TAB).perform()"
   ]
  },
  {
   "cell_type": "code",
   "execution_count": 186,
   "id": "83704787",
   "metadata": {},
   "outputs": [],
   "source": [
    "ActionChains(navegador).send_keys(Keys.ENTER).perform()"
   ]
  },
  {
   "cell_type": "code",
   "execution_count": 187,
   "id": "885c7323",
   "metadata": {},
   "outputs": [],
   "source": [
    "time.sleep(5)\n",
    "barra_pesquisa = WebDriverWait(navegador, 10).until(\n",
    "    EC.presence_of_element_located((By.ID, \"name\"))\n",
    ")\n",
    "barra_pesquisa.click()\n",
    "barra_pesquisa.send_keys(\"RUAN JOSÉ PERDIGÃO DE AQUINO\")\n",
    "barra_pesquisa = navegador.find_element(\"id\", \"email\")\n",
    "barra_pesquisa.send_keys(\"ruanjoseperdigao@gmail.com\")\n",
    "barra_pesquisa = navegador.find_element(\"id\", \"phone\")\n",
    "barra_pesquisa.send_keys(\"92993820103\")\n",
    "barra_pesquisa = navegador.find_element(\"id\", \"linkedinUsername\")\n",
    "barra_pesquisa.send_keys(\"www.linkedin.com/in/ruan-aquino-64443b1b9\")"
   ]
  },
  {
   "cell_type": "code",
   "execution_count": 189,
   "id": "3bad395f",
   "metadata": {},
   "outputs": [],
   "source": [
    "caminho_pdf = r\"C:\\Users\\Ruanj\\OneDrive\\Documentos\\Automação de currículo\\Geral_Ruan_Aquino.pdf\"\n",
    "input_curriculo = navegador.find_element(By.XPATH, \"//input[@type='file']\")\n",
    "input_curriculo.send_keys(caminho_pdf)"
   ]
  },
  {
   "cell_type": "markdown",
   "id": "d2cf2ede",
   "metadata": {},
   "source": [
    "quando chemaos no type form, é apresentado um erro: o selenium não consegue identificar os botões por meio dos seletores e parâmetros fornecidos. pyautogui não escreve acentos"
   ]
  },
  {
   "cell_type": "code",
   "execution_count": 192,
   "id": "bcde03ed",
   "metadata": {},
   "outputs": [],
   "source": [
    "import pyautogui\n",
    "import pyperclip\n",
    "time.sleep(5)  # Aguarda o carregamento do arquivo\n",
    "pyautogui.click(x=1419, y=891) \n",
    "time.sleep(10)  # Aguarda o carregamento do arquivo\n",
    "pyautogui.click(x=964, y=645)  # Ajuste as coordenadas conforme necessário\n",
    "time.sleep(5)\n",
    "pyautogui.write('Centro Universitário FAMETRO')\n",
    "pyautogui.press('enter')\n"
   ]
  },
  {
   "cell_type": "code",
   "execution_count": null,
   "id": "ae3f83b6",
   "metadata": {},
   "outputs": [],
   "source": [
    "time.sleep(5)  \n",
    "pyautogui.write('Engenharia de Software')\n",
    "pyautogui.press('enter')"
   ]
  },
  {
   "cell_type": "code",
   "execution_count": null,
   "id": "d80f73fc",
   "metadata": {},
   "outputs": [],
   "source": [
    "time.sleep(5)\n",
    "pyperclip.copy('Quinto Período')   # coloca o texto com acento na área de transferência\n",
    "pyautogui.hotkey('ctrl', 'v')      # cola no campo\n",
    "time.sleep(1)\n",
    "pyautogui.press('enter')"
   ]
  },
  {
   "cell_type": "code",
   "execution_count": null,
   "id": "bd9af621",
   "metadata": {},
   "outputs": [],
   "source": [
    "time.sleep(5)\n",
    "pyautogui.write('Novembro de 2027')"
   ]
  },
  {
   "cell_type": "code",
   "execution_count": null,
   "id": "6f9d62de",
   "metadata": {},
   "outputs": [],
   "source": [
    "time.sleep(5)\n",
    "pyautogui.press('c')"
   ]
  },
  {
   "cell_type": "code",
   "execution_count": null,
   "id": "0b2a2788",
   "metadata": {},
   "outputs": [],
   "source": [
    "time.sleep(5)\n",
    "pyautogui.press('b')"
   ]
  },
  {
   "cell_type": "code",
   "execution_count": null,
   "id": "fe75593b",
   "metadata": {},
   "outputs": [],
   "source": [
    "time.sleep(5)\n",
    "pyautogui.press('a')"
   ]
  },
  {
   "cell_type": "code",
   "execution_count": null,
   "id": "61acbe09",
   "metadata": {},
   "outputs": [],
   "source": [
    "time.sleep(5)\n",
    "pyautogui.click(x=977, y=623)"
   ]
  },
  {
   "cell_type": "code",
   "execution_count": null,
   "id": "29bba993",
   "metadata": {},
   "outputs": [],
   "source": [
    "navegador.get(\"https://sidia.inhire.app/sidia/vagas\")"
   ]
  },
  {
   "cell_type": "code",
   "execution_count": null,
   "id": "a16adcb4",
   "metadata": {},
   "outputs": [],
   "source": [
    "FAZER O LOOPING PARA CADA VAGA"
   ]
  }
 ],
 "metadata": {
  "kernelspec": {
   "display_name": "Python 3",
   "language": "python",
   "name": "python3"
  },
  "language_info": {
   "codemirror_mode": {
    "name": "ipython",
    "version": 3
   },
   "file_extension": ".py",
   "mimetype": "text/x-python",
   "name": "python",
   "nbconvert_exporter": "python",
   "pygments_lexer": "ipython3",
   "version": "3.10.0"
  }
 },
 "nbformat": 4,
 "nbformat_minor": 5
}
